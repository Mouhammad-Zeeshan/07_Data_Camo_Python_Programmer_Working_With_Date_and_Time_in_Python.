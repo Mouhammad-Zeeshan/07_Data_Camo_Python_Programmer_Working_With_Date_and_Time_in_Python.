{
 "cells": [
  {
   "cell_type": "code",
   "execution_count": null,
   "id": "e5edc8de",
   "metadata": {},
   "outputs": [],
   "source": []
  },
  {
   "cell_type": "code",
   "execution_count": 1,
   "id": "91c64884",
   "metadata": {},
   "outputs": [
    {
     "name": "stdout",
     "output_type": "stream",
     "text": [
      "0\n"
     ]
    }
   ],
   "source": [
    "# Import date from datetime\n",
    "from datetime import date\n",
    "\n",
    "# Create a date object\n",
    "hurricane_andrew = date(1992, 8, 24)\n",
    "\n",
    "# Which day of the week is the date?\n",
    "print(hurricane_andrew.weekday())"
   ]
  },
  {
   "cell_type": "code",
   "execution_count": 2,
   "id": "d6027375",
   "metadata": {},
   "outputs": [],
   "source": [
    "# 0 : Monday\n",
    "# 1 : Tuesday\n",
    "# 3 : Wednesday \n",
    "# . : .\n",
    "# . : .\n",
    "# . : Sundaay\n"
   ]
  },
  {
   "cell_type": "code",
   "execution_count": null,
   "id": "31ad20a4",
   "metadata": {},
   "outputs": [],
   "source": []
  },
  {
   "cell_type": "code",
   "execution_count": 4,
   "id": "0f628a0d",
   "metadata": {},
   "outputs": [],
   "source": [
    "# # Counter for how many before June 1\n",
    "# early_hurricanes = 0\n",
    "\n",
    "# # We loop over the dates\n",
    "# for hurricane in florida_hurricane_dates:\n",
    "#   # Check if the month is before June (month number 6)\n",
    "#   if hurricane.month < 6:\n",
    "#     early_hurricanes = early_hurricanes + 1\n",
    "    \n",
    "# print(early_hurricanes)\n"
   ]
  },
  {
   "cell_type": "code",
   "execution_count": null,
   "id": "7bd53673",
   "metadata": {},
   "outputs": [],
   "source": []
  },
  {
   "cell_type": "code",
   "execution_count": 6,
   "id": "9f71b7c2",
   "metadata": {},
   "outputs": [
    {
     "name": "stdout",
     "output_type": "stream",
     "text": [
      "218\n"
     ]
    }
   ],
   "source": [
    "# Import date\n",
    "from datetime import date\n",
    "\n",
    "# Create a date object for May 9th, 2007\n",
    "start = date(2007, 5, 9)\n",
    "\n",
    "# Create a date object for December 13th, 2007\n",
    "end = date(2007, 12, 13)\n",
    "\n",
    "# Subtract the two dates and print the number of days\n",
    "print((end - start).days)"
   ]
  },
  {
   "cell_type": "code",
   "execution_count": null,
   "id": "cf18652c",
   "metadata": {},
   "outputs": [],
   "source": []
  },
  {
   "cell_type": "code",
   "execution_count": null,
   "id": "3b81cf5b",
   "metadata": {},
   "outputs": [],
   "source": [
    "# # A dictionary to count hurricanes per calendar month\n",
    "# hurricanes_each_month = {1: 0, 2: 0, 3: 0, 4: 0, 5: 0, 6:0,\n",
    "# \t\t  \t\t\t\t 7: 0, 8:0, 9:0, 10:0, 11:0, 12:0}\n",
    "\n",
    "# # Loop over all hurricanes\n",
    "# for hurricane in florida_hurricane_dates:\n",
    "#   # Pull out the month\n",
    "#   month = hurricane.month\n",
    "#   # Increment the count in your dictionary by one\n",
    "#   hurricanes_each_month[month] =hurricanes_each_month[month] +1\n",
    "  \n",
    "# print(hurricanes_each_month)"
   ]
  },
  {
   "cell_type": "code",
   "execution_count": null,
   "id": "8fba32f1",
   "metadata": {},
   "outputs": [],
   "source": [
    "# # Import date\n",
    "# from datetime import date\n",
    "\n",
    "# # Create a date object\n",
    "# andrew = date(1992, 8, 26)\n",
    "\n",
    "# # Print the date in the format 'MONTH (YYYY)'\n",
    "# print(andrew.strftime('%B (%Y)'))"
   ]
  },
  {
   "cell_type": "code",
   "execution_count": null,
   "id": "7662a54e",
   "metadata": {},
   "outputs": [],
   "source": [
    "# # Import date\n",
    "# from datetime import date\n",
    "\n",
    "# # Create a date object\n",
    "# andrew = date(1992, 8, 26)\n",
    "\n",
    "# # Print the date in the format 'YYYY-DDD'\n",
    "# print(andrew.strftime('%Y-%j'))"
   ]
  },
  {
   "cell_type": "code",
   "execution_count": null,
   "id": "85a5b25d",
   "metadata": {},
   "outputs": [],
   "source": []
  },
  {
   "cell_type": "code",
   "execution_count": null,
   "id": "d9eb5a17",
   "metadata": {},
   "outputs": [],
   "source": []
  }
 ],
 "metadata": {
  "kernelspec": {
   "display_name": "Python 3 (ipykernel)",
   "language": "python",
   "name": "python3"
  },
  "language_info": {
   "codemirror_mode": {
    "name": "ipython",
    "version": 3
   },
   "file_extension": ".py",
   "mimetype": "text/x-python",
   "name": "python",
   "nbconvert_exporter": "python",
   "pygments_lexer": "ipython3",
   "version": "3.9.12"
  }
 },
 "nbformat": 4,
 "nbformat_minor": 5
}
