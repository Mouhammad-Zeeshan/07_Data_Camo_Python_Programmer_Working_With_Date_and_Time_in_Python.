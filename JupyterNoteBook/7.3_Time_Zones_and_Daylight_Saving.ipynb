{
 "cells": [
  {
   "cell_type": "code",
   "execution_count": 1,
   "id": "e5edc8de",
   "metadata": {},
   "outputs": [
    {
     "name": "stdout",
     "output_type": "stream",
     "text": [
      "2017-10-01T15:26:26+00:00\n"
     ]
    }
   ],
   "source": [
    "# Import datetime, timezone\n",
    "from datetime import datetime, timezone\n",
    "\n",
    "# October 1, 2017 at 15:26:26, UTC\n",
    "dt = datetime(2017, 10, 1, 15, 26, 26, tzinfo=timezone.utc)\n",
    "\n",
    "# Print results\n",
    "print(dt.isoformat())"
   ]
  },
  {
   "cell_type": "code",
   "execution_count": 2,
   "id": "4966eb5b",
   "metadata": {},
   "outputs": [
    {
     "name": "stdout",
     "output_type": "stream",
     "text": [
      "2017-10-01T15:26:26-08:00\n"
     ]
    }
   ],
   "source": [
    " # Import datetime, timedelta, timezone\n",
    "from datetime import datetime, timedelta, timezone\n",
    "\n",
    "# Create a timezone for Pacific Standard Time, or UTC-8\n",
    "pst = timezone(timedelta(hours=-8))\n",
    "\n",
    "# October 1, 2017 at 15:26:26, UTC-8\n",
    "dt = datetime(2017, 10, 1, 15, 26, 26, tzinfo=pst)\n",
    "\n",
    "# Print results\n",
    "print(dt.isoformat())"
   ]
  },
  {
   "cell_type": "code",
   "execution_count": 3,
   "id": "90f1cfe8",
   "metadata": {},
   "outputs": [
    {
     "name": "stdout",
     "output_type": "stream",
     "text": [
      "2017-10-01T15:26:26+11:00\n"
     ]
    }
   ],
   "source": [
    "# Import datetime, timedelta, timezone\n",
    "from datetime import datetime, timedelta, timezone\n",
    "\n",
    "# Create a timezone for Australian Eastern Daylight Time, or UTC+11\n",
    "aedt = timezone(timedelta(hours=11))\n",
    "\n",
    "# October 1, 2017 at 15:26:26, UTC+11\n",
    "dt = datetime(2017, 10, 1, 15, 26, 26, tzinfo=aedt)\n",
    "\n",
    "# Print results\n",
    "print(dt.isoformat())"
   ]
  },
  {
   "cell_type": "code",
   "execution_count": 4,
   "id": "5d299d20",
   "metadata": {},
   "outputs": [],
   "source": [
    "# # Create a timezone object corresponding to UTC-4\n",
    "# edt = timezone(timedelta(hours=-4))\n",
    "\n",
    "# # Loop over trips, updating the start and end datetimes to be in UTC-4\n",
    "# for trip in onebike_datetimes[:10]:\n",
    "#   # Update trip['start'] and trip['end']\n",
    "#   trip['start'] = trip['start'].replace(tzinfo = edt)\n",
    "#   trip['end'] = trip['end'].replace(tzinfo = edt)"
   ]
  },
  {
   "cell_type": "code",
   "execution_count": null,
   "id": "92d989ea",
   "metadata": {},
   "outputs": [],
   "source": []
  },
  {
   "cell_type": "code",
   "execution_count": 5,
   "id": "40f61ea1",
   "metadata": {},
   "outputs": [],
   "source": [
    "# # Import tz\n",
    "# from dateutil import tz \n",
    "\n",
    "# # Create a timezone object for Eastern Time\n",
    "# et = tz.gettz('America/New_York')\n",
    "\n",
    "# # Loop over trips, updating the datetimes to be in Eastern Time\n",
    "# for trip in onebike_datetimes[:10]:\n",
    "#   # Update trip['start'] and trip['end']\n",
    "#   trip['start'] = trip['start'].replace(tzinfo = et)\n",
    "#   trip['end'] = trip['end'].replace(tzinfo = et) "
   ]
  },
  {
   "cell_type": "code",
   "execution_count": 6,
   "id": "9102167f",
   "metadata": {},
   "outputs": [],
   "source": [
    "from dateutil import tz"
   ]
  },
  {
   "cell_type": "code",
   "execution_count": 8,
   "id": "5b7b7a26",
   "metadata": {},
   "outputs": [],
   "source": [
    "# # Create the timezone object\n",
    "# uk = tz.gettz(\"America/New_York\")\n",
    "\n",
    "# # Pull out the start of the first trip\n",
    "# local = onebike_datetimes[0]['start']\n",
    "\n",
    "# # What time was it in the UK?\n",
    "# notlocal = local.astimezone(uk)\n",
    "\n",
    "# # Print them out and see the difference\n",
    "# print(local.isoformat())\n",
    "# print(notlocal.isoformat())"
   ]
  },
  {
   "cell_type": "code",
   "execution_count": 9,
   "id": "655c7d54",
   "metadata": {},
   "outputs": [],
   "source": [
    "# # Create the timezone object\n",
    "# ist = tz.gettz('Asia/Kolkata')\n",
    "\n",
    "# # Pull out the start of the first trip\n",
    "# local = onebike_datetimes[0]['start']\n",
    "\n",
    "# # What time was it in the UK?\n",
    "# notlocal = local.astimezone(ist)\n",
    "\n",
    "# # Print them out and see the difference\n",
    "# print(local.isoformat())\n",
    "# print(notlocal.isoformat())"
   ]
  },
  {
   "cell_type": "code",
   "execution_count": 10,
   "id": "1963bc7e",
   "metadata": {},
   "outputs": [],
   "source": [
    "# # Create the timezone object\n",
    "# sm = tz.gettz(\"Pacific/Apia\")\n",
    "\n",
    "# # Pull out the start of the first trip\n",
    "# local = onebike_datetimes[0]['start']\n",
    "\n",
    "# # What time was it in Samoa?\n",
    "# notlocal = local.astimezone(sm)\n",
    "\n",
    "# # Print them out and see the difference\n",
    "# print(local.isoformat())\n",
    "# print(notlocal.isoformat())"
   ]
  },
  {
   "cell_type": "code",
   "execution_count": 11,
   "id": "d8d653ec",
   "metadata": {},
   "outputs": [
    {
     "name": "stdout",
     "output_type": "stream",
     "text": [
      "2017-03-12T00:00:00-05:00 to 2017-03-12T06:00:00-04:00\n"
     ]
    }
   ],
   "source": [
    "# Import datetime, timedelta, tz, timezone\n",
    "from datetime import datetime, timedelta, timezone\n",
    "from dateutil import tz\n",
    "\n",
    "# Start on March 12, 2017, midnight, then add 6 hours\n",
    "start = datetime(2017, 3, 12, tzinfo = tz.gettz('America/New_York'))\n",
    "end = start + timedelta(hours=6)\n",
    "print(start.isoformat() + \" to \" + end.isoformat())"
   ]
  },
  {
   "cell_type": "code",
   "execution_count": 12,
   "id": "0615163c",
   "metadata": {},
   "outputs": [
    {
     "name": "stdout",
     "output_type": "stream",
     "text": [
      "2017-03-12T00:00:00-05:00 to 2017-03-12T06:00:00-04:00\n",
      "6.0\n"
     ]
    }
   ],
   "source": [
    "# Import datetime, timedelta, tz, timezone\n",
    "from datetime import datetime, timedelta, timezone\n",
    "from dateutil import tz\n",
    "\n",
    "# Start on March 12, 2017, midnight, then add 6 hours\n",
    "start = datetime(2017, 3, 12, tzinfo = tz.gettz('America/New_York'))\n",
    "end = start + timedelta(hours=6)\n",
    "print(start.isoformat() + \" to \" + end.isoformat())\n",
    "\n",
    "# How many hours have elapsed?\n",
    "print((end - start).total_seconds()/(60*60))"
   ]
  },
  {
   "cell_type": "code",
   "execution_count": 13,
   "id": "814b6316",
   "metadata": {},
   "outputs": [
    {
     "name": "stdout",
     "output_type": "stream",
     "text": [
      "2017-03-12T00:00:00-05:00 to 2017-03-12T06:00:00-04:00\n",
      "6.0\n"
     ]
    }
   ],
   "source": [
    "# Import datetime, timedelta, tz, timezone\n",
    "from datetime import datetime, timedelta, timezone\n",
    "from dateutil import tz\n",
    "\n",
    "# Start on March 12, 2017, midnight, then add 6 hours\n",
    "start = datetime(2017, 3, 12, tzinfo = tz.gettz('America/New_York'))\n",
    "end = start + timedelta(hours=6)\n",
    "print(start.isoformat() + \" to \" + end.isoformat())\n",
    "\n",
    "# How many hours have elapsed?\n",
    "print((end - start).total_seconds()/(60*60))"
   ]
  },
  {
   "cell_type": "code",
   "execution_count": 14,
   "id": "7229f84c",
   "metadata": {},
   "outputs": [
    {
     "name": "stdout",
     "output_type": "stream",
     "text": [
      "2000-03-29T00:00:00+01:00\n",
      "2001-03-29T00:00:00+01:00\n",
      "2002-03-29T00:00:00+00:00\n",
      "2003-03-29T00:00:00+00:00\n",
      "2004-03-29T00:00:00+01:00\n",
      "2005-03-29T00:00:00+01:00\n",
      "2006-03-29T00:00:00+01:00\n",
      "2007-03-29T00:00:00+01:00\n",
      "2008-03-29T00:00:00+00:00\n",
      "2009-03-29T00:00:00+00:00\n",
      "2010-03-29T00:00:00+01:00\n"
     ]
    }
   ],
   "source": [
    "# Import datetime and tz\n",
    "from datetime import datetime\n",
    "from dateutil import tz\n",
    "\n",
    "# Create starting date\n",
    "dt = datetime(2000, 3, 29, tzinfo = tz.gettz('Europe/London'))\n",
    "\n",
    "# Loop over the dates, replacing the year, and print the ISO timestamp\n",
    "for y in range(2000, 2011):\n",
    "  print(dt.replace(year=y).isoformat())"
   ]
  },
  {
   "cell_type": "code",
   "execution_count": null,
   "id": "dde5261b",
   "metadata": {},
   "outputs": [],
   "source": [
    "# # Loop over trips\n",
    "# for trip in onebike_datetimes:\n",
    "#   # Rides with ambiguous start\n",
    "#   if tz.datetime_ambiguous(trip['start']):\n",
    "#     print(\"Ambiguous start at \" + str(trip['start']))\n",
    "#   # Rides with ambiguous end\n",
    "#   if tz.datetime_ambiguous(trip['end']):\n",
    "#     print(\"Ambiguous end at \" + str(trip['end']))"
   ]
  },
  {
   "cell_type": "code",
   "execution_count": null,
   "id": "6959678b",
   "metadata": {},
   "outputs": [],
   "source": [
    "# trip_durations = []\n",
    "# for trip in onebike_datetimes:\n",
    "#   # When the start is later than the end, set the fold to be 1\n",
    "#   if trip['start'] > trip['end']:\n",
    "#     trip['end'] = tz.enfold(trip['end'])\n",
    "#   # Convert to UTC\n",
    "#   start = trip['start'].astimezone(tz.UTC)\n",
    "#   end = trip['end'].astimezone(tz.UTC)\n",
    "\n",
    "#   # Subtract the difference\n",
    "#   trip_length_seconds = (end-start).total_seconds()\n",
    "#   trip_durations.append(trip_length_seconds)\n",
    "\n",
    "# # Take the shortest trip duration\n",
    "# print(\"Shortest trip: \" + str(min(trip_durations)))"
   ]
  },
  {
   "cell_type": "code",
   "execution_count": null,
   "id": "c65ef955",
   "metadata": {},
   "outputs": [],
   "source": []
  }
 ],
 "metadata": {
  "kernelspec": {
   "display_name": "Python 3 (ipykernel)",
   "language": "python",
   "name": "python3"
  },
  "language_info": {
   "codemirror_mode": {
    "name": "ipython",
    "version": 3
   },
   "file_extension": ".py",
   "mimetype": "text/x-python",
   "name": "python",
   "nbconvert_exporter": "python",
   "pygments_lexer": "ipython3",
   "version": "3.9.12"
  }
 },
 "nbformat": 4,
 "nbformat_minor": 5
}
