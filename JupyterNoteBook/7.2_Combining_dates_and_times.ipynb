{
 "cells": [
  {
   "cell_type": "markdown",
   "id": "23d60af7",
   "metadata": {},
   "source": [
    "# Date and Time. "
   ]
  },
  {
   "cell_type": "code",
   "execution_count": 1,
   "id": "015cf048",
   "metadata": {},
   "outputs": [],
   "source": [
    "from datetime import datetime"
   ]
  },
  {
   "cell_type": "code",
   "execution_count": 4,
   "id": "ca280333",
   "metadata": {},
   "outputs": [
    {
     "name": "stdout",
     "output_type": "stream",
     "text": [
      "2017-01-10T15:26:26\n"
     ]
    }
   ],
   "source": [
    "# Import datetime\n",
    "from datetime import datetime\n",
    " \n",
    "# Create a datetime object\n",
    "dt = datetime(2017, 1, 10, 15, 26, 26)\n",
    "\n",
    "# Print the results in ISO 8601 format\n",
    "print(dt.isoformat())"
   ]
  },
  {
   "cell_type": "code",
   "execution_count": 5,
   "id": "5b75e663",
   "metadata": {},
   "outputs": [
    {
     "name": "stdout",
     "output_type": "stream",
     "text": [
      "2017-12-31T15:19:13\n"
     ]
    }
   ],
   "source": [
    "# Import datetime\n",
    "from datetime import datetime\n",
    "\n",
    "# Create a datetime object\n",
    "dt = datetime(2017,12,31,15,19,13)\n",
    "\n",
    "# Print the results in ISO 8601 format\n",
    "print(dt.isoformat())"
   ]
  },
  {
   "cell_type": "code",
   "execution_count": 6,
   "id": "1ababf0e",
   "metadata": {},
   "outputs": [
    {
     "name": "stdout",
     "output_type": "stream",
     "text": [
      "1917-12-31 15:19:13\n"
     ]
    }
   ],
   "source": [
    "# Import datetime\n",
    "from datetime import datetime\n",
    "\n",
    "# Create a datetime object\n",
    "dt = datetime(2017, 12, 31, 15, 19, 13)\n",
    "\n",
    "# Replace the year with 1917\n",
    "dt_old = dt.replace(year = 1917)\n",
    "\n",
    "# Print the results in ISO 8601 format\n",
    "print(dt_old)"
   ]
  },
  {
   "cell_type": "code",
   "execution_count": null,
   "id": "7468e255",
   "metadata": {},
   "outputs": [],
   "source": [
    "# # Create dictionary to hold results\n",
    "# trip_counts = {'AM': 0, 'PM': 0}\n",
    "  \n",
    "# # Loop over all trips\n",
    "# for trip in onebike_datetimes:\n",
    "#   # Check to see if the trip starts before noon\n",
    "#   if trip['start'].hour < 12:\n",
    "#     # Increment the counter for before noon\n",
    "#     trip_counts['AM'] += 1\n",
    "#   else:\n",
    "#     # Increment the counter for after noon\n",
    "#     trip_counts['PM'] += 1\n",
    "  \n",
    "# print(trip_counts)"
   ]
  },
  {
   "cell_type": "code",
   "execution_count": null,
   "id": "83a3cc24",
   "metadata": {},
   "outputs": [],
   "source": []
  },
  {
   "cell_type": "code",
   "execution_count": 1,
   "id": "f624921e",
   "metadata": {},
   "outputs": [
    {
     "name": "stdout",
     "output_type": "stream",
     "text": [
      "2017-02-03 00:00:01\n"
     ]
    }
   ],
   "source": [
    "# Import the datetime class\n",
    "from datetime import datetime\n",
    "\n",
    "# Starting string, in YYYY-MM-DD HH:MM:SS format\n",
    "s = '2017-02-03 00:00:01'\n",
    "\n",
    "# Write a format string to parse s\n",
    "fmt = '%Y-%m-%d %H:%M:%S'\n",
    "\n",
    "# Create a datetime object d\n",
    "d = datetime.strptime(s, fmt)\n",
    "\n",
    "# Print d\n",
    "print(d)"
   ]
  },
  {
   "cell_type": "code",
   "execution_count": 2,
   "id": "aa89fa6e",
   "metadata": {},
   "outputs": [
    {
     "name": "stdout",
     "output_type": "stream",
     "text": [
      "2030-10-15 00:00:00\n"
     ]
    }
   ],
   "source": [
    "# Import the datetime class\n",
    "from datetime import datetime\n",
    "\n",
    "# Starting string, in YYYY-MM-DD format\n",
    "s = '2030-10-15'\n",
    "\n",
    "# Write a format string to parse s\n",
    "fmt = '%Y-%m-%d'\n",
    "\n",
    "# Create a datetime object d\n",
    "d = datetime.strptime(s, fmt)\n",
    "\n",
    "# Print d\n",
    "print(d)"
   ]
  },
  {
   "cell_type": "code",
   "execution_count": 3,
   "id": "2230ef45",
   "metadata": {},
   "outputs": [
    {
     "name": "stdout",
     "output_type": "stream",
     "text": [
      "1986-12-15 08:00:00\n"
     ]
    }
   ],
   "source": [
    "# Import the datetime class\n",
    "from datetime import datetime\n",
    "\n",
    "# Starting string, in MM/DD/YYYY HH:MM:SS format\n",
    "s = '12/15/1986 08:00:00'\n",
    "\n",
    "# Write a format string to parse s\n",
    "fmt = '%m/%d/%Y %H:%M:%S'\n",
    "\n",
    "# Create a datetime object d\n",
    "d = datetime.strptime(s, fmt)\n",
    "\n",
    "# Print d\n",
    "print(d)"
   ]
  },
  {
   "cell_type": "code",
   "execution_count": null,
   "id": "2bcdf4d8",
   "metadata": {},
   "outputs": [],
   "source": [
    "# # Write down the format string\n",
    "# fmt = \"%Y-%m-%d %H:%M:%S\"\n",
    "\n",
    "# # Initialize a list for holding the pairs of datetime objects\n",
    "# onebike_datetimes = []\n",
    "\n",
    "# # Loop over all trips\n",
    "# for (start, end) in onebike_datetime_strings:\n",
    "#   trip = {'start': datetime.strptime(start, fmt),\n",
    "#           'end': datetime.strptime(end, fmt)}\n",
    "  \n",
    "#   # Append the trip\n",
    "#   onebike_datetimes.append(trip)"
   ]
  },
  {
   "cell_type": "code",
   "execution_count": 5,
   "id": "073e653d",
   "metadata": {},
   "outputs": [
    {
     "name": "stdout",
     "output_type": "stream",
     "text": [
      "[datetime.datetime(2017, 12, 31, 1, 19, 13), datetime.datetime(2017, 12, 31, 1, 9, 3)]\n"
     ]
    }
   ],
   "source": [
    "# Import datetime\n",
    "from datetime import datetime\n",
    "\n",
    "# Starting timestamps\n",
    "timestamps = [1514665153, 1514664543]\n",
    "\n",
    "# Datetime objects\n",
    "dts = []\n",
    "\n",
    "# Loop\n",
    "for ts in timestamps:\n",
    "  dts.append(datetime.fromtimestamp(ts))\n",
    "  \n",
    "# Print results\n",
    "print(dts)"
   ]
  },
  {
   "cell_type": "code",
   "execution_count": null,
   "id": "fee8de5c",
   "metadata": {},
   "outputs": [],
   "source": []
  },
  {
   "cell_type": "code",
   "execution_count": null,
   "id": "ccd11900",
   "metadata": {},
   "outputs": [],
   "source": [
    "# # Initialize a list for all the trip durations\n",
    "# onebike_durations = []\n",
    "\n",
    "# for trip in onebike_datetimes:\n",
    "#   # Create a timedelta object corresponding to the length of the trip\n",
    "#   trip_duration = trip['end'] - trip['start']\n",
    "  \n",
    "#   # Get the total elapsed seconds in trip_duration\n",
    "#   trip_length_seconds = trip_duration.total_seconds()\n",
    "  \n",
    "#   # Append the results to our list\n",
    "#   onebike_durations.append(trip_length_seconds)"
   ]
  },
  {
   "cell_type": "code",
   "execution_count": null,
   "id": "05556e4f",
   "metadata": {},
   "outputs": [],
   "source": []
  },
  {
   "cell_type": "code",
   "execution_count": null,
   "id": "c69daf10",
   "metadata": {},
   "outputs": [],
   "source": [
    "# # What was the total duration of all trips?\n",
    "# total_elapsed_time = sum(onebike_durations)\n",
    "\n",
    "# # What was the total number of trips?\n",
    "# number_of_trips = len(onebike_durations)\n",
    "  \n",
    "# # Divide the total duration by the number of trips\n",
    "# print(total_elapsed_time / number_of_trips)"
   ]
  },
  {
   "cell_type": "code",
   "execution_count": null,
   "id": "a6235568",
   "metadata": {},
   "outputs": [],
   "source": []
  },
  {
   "cell_type": "code",
   "execution_count": null,
   "id": "6c348d5d",
   "metadata": {},
   "outputs": [],
   "source": [
    "# # Calculate shortest and longest trips\n",
    "# shortest_trip = min(onebike_durations)\n",
    "# longest_trip = max(onebike_durations)\n",
    "\n",
    "# # Print out the results\n",
    "# print(\"The shortest trip was \" + str(shortest_trip) + \" seconds\")\n",
    "# print(\"The longest trip was \" + str(longest_trip) + \" seconds\")"
   ]
  },
  {
   "cell_type": "code",
   "execution_count": null,
   "id": "7f8d366e",
   "metadata": {},
   "outputs": [],
   "source": []
  }
 ],
 "metadata": {
  "kernelspec": {
   "display_name": "Python 3 (ipykernel)",
   "language": "python",
   "name": "python3"
  },
  "language_info": {
   "codemirror_mode": {
    "name": "ipython",
    "version": 3
   },
   "file_extension": ".py",
   "mimetype": "text/x-python",
   "name": "python",
   "nbconvert_exporter": "python",
   "pygments_lexer": "ipython3",
   "version": "3.9.12"
  }
 },
 "nbformat": 4,
 "nbformat_minor": 5
}
